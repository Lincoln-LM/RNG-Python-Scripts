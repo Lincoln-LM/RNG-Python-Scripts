{
 "cells": [
  {
   "cell_type": "markdown",
   "metadata": {},
   "source": [
    "# GF(2)-linear RNG Jump Ahead\n",
    "\n",
    "## Intro\n",
    "This document serves to explain how the math behind jump ahead works, along with example code for how this can be implemented for Xoroshiro128+ (although it may be fairly easily applied to other PRNGs).\n",
    "\n",
    "A lot of the explanation of the math is repeating what is described in “Efficient Jump Ahead for F2-Linear Random Number Generators” in a way that I feel is easier to understand.\n",
    "\n",
    "## Matrix Representation of PRNG\n",
    "\n",
    "The sequence of the states of GF(2)-linear PRNGs can be represented as \n",
    "\n",
    "**x**ₙ = **Ax**ₙ₋₁\n",
    "\n",
    "where **x**ₙ is the *k*-bit state vector under GF(2) of the RNG at step *n* and **A** is the *k*×*k* transition matrix who's elements are in GF(2)."
   ]
  },
  {
   "cell_type": "code",
   "execution_count": 20,
   "metadata": {},
   "outputs": [],
   "source": [
    "import numpy as np\n",
    "\n",
    "def mat_rotl(n, size = 64):\n",
    "    return np.roll(np.identity(size, dtype = np.uint8), -n, axis = 0)\n",
    "\n",
    "def mat_shift(n, size = 64):\n",
    "    return np.eye(size, k = n, dtype = np.uint8)\n",
    "\n",
    "k = 128 # size of state\n",
    "state = np.random.randint(0, 2, k, np.uint8) # random starting bits of rng state\n",
    "\n",
    "\"\"\"\n",
    "https://xoshiro.di.unimi.it/xoroshiro128plus.c\n",
    "uint64_t next(void) {\n",
    "\tconst uint64_t s0 = s[0];\n",
    "\tuint64_t s1 = s[1];\n",
    "\tconst uint64_t result = s0 + s1;\n",
    "\n",
    "\ts1 ^= s0;\n",
    "\ts[0] = rotl(s0, 24) ^ s1 ^ (s1 << 16); // a, b\n",
    "\ts[1] = rotl(s1, 37); // c\n",
    "\n",
    "\treturn result;\n",
    "}\n",
    "\"\"\"\n",
    "\n",
    "s0_mat = np.zeros((128, 64), np.uint8)\n",
    "s1_mat = np.zeros((128, 64), np.uint8)\n",
    "\n",
    "# const uint64_t s0 = s[0];\n",
    "s0_mat[0:64] = np.identity(64, np.uint8)\n",
    "# uint64_t s1 = s[1];\n",
    "s1_mat[64:128] = np.identity(64, np.uint8)\n",
    "\n",
    "# s1 ^= s0;\n",
    "s1_mat ^= s0_mat\n",
    "\n",
    "# s[0] = rotl(s0, 24) ...\n",
    "s0_mat = (s0_mat @ mat_rotl(24)) % 2\n",
    "# ... ^ s1 ...\n",
    "s0_mat ^= s1_mat\n",
    "# ... ^ (s1 << 16);\n",
    "s0_mat ^= (s1_mat @ mat_shift(16)) % 2\n",
    "\n",
    "# s[1] = rotl(s1, 37);\n",
    "s1_mat = (s1_mat @ mat_rotl(37)) % 2\n",
    "\n",
    "# Xoroshiro128+ transformation matrix\n",
    "A = np.hstack((s0_mat, s1_mat))\n",
    "\n",
    "def advance_rng(x_n_minus_1):\n",
    "    x_n = (x_n_minus_1 @ A) % 2\n",
    "    return x_n"
   ]
  },
  {
   "cell_type": "markdown",
   "metadata": {},
   "source": [
    "## Matrix Representation of PRNG jump\n",
    "\n",
    "In order to jump the PRNG, one must be able to compute:\n",
    "\n",
    "**x**ₙ₊ᵥ = **Jx**ₙ\n",
    "\n",
    "where *v* is the amount of steps to jump and\n",
    "\n",
    "**J** = **A**ᵛ\n",
    "\n",
    "defines J as a matrix that describes jumping the PRNG *v* steps.\n",
    "\n",
    "Computing J can be done via exponentiation by squares, but this can be very computationally intensive and may require a lot of memory depending on how large *k* is.\n",
    "\n",
    "## Characteristic Polynomial\n",
    "\n",
    "The characteristic polynomial of the matrix **A** is defined as:\n",
    "\n",
    "p(z) = det(z**I** + **A**) = zᵏ + α₁zᵏ⁻¹ + ... + αₖ₋₁z + αₖ\n",
    "\n",
    "where **I** is the identity matrix and each coefficient αⱼ is in GF(2) and thus is either 0 or 1.\n",
    "\n",
    "The coefficients of this characteristic polynomial can be computed once for any given matrix A via sympy."
   ]
  },
  {
   "cell_type": "code",
   "execution_count": 21,
   "metadata": {},
   "outputs": [
    {
     "name": "stdout",
     "output_type": "stream",
     "text": [
      "z**128 + z**115 + z**113 + z**111 + z**109 + z**108 + z**105 + z**104 + z**103 + z**102 + z**100 + z**98 + z**95 + z**94 + z**92 + z**91 + z**90 + z**88 + z**87 + z**86 + z**85 + z**81 + z**80 + z**79 + z**77 + z**76 + z**74 + z**72 + z**69 + z**64 + z**62 + z**60 + z**58 + z**57 + z**56 + z**55 + z**50 + z**48 + z**47 + z**45 + z**44 + z**43 + z**40 + z**36 + z**34 + z**31 + z**30 + z**29 + z**25 + z**23 + z**17 + z**13 + z**0\n",
      "0x10008828e513b43d5095b8f76579aa001\n"
     ]
    }
   ],
   "source": [
    "from sympy import Matrix\n",
    "from functools import reduce\n",
    "\n",
    "coeffs = tuple(x & 1 for x in Matrix(A).charpoly().all_coeffs())\n",
    "representation = \" + \".join(f\"z**{i}\" for i, coeff in reversed(tuple(enumerate(coeffs))) if coeff == 1)\n",
    "print(representation)\n",
    "\n",
    "char_poly = reduce(lambda p, q: (p << 1) | (q & 1), coeffs)\n",
    "print(hex(char_poly))\n"
   ]
  },
  {
   "cell_type": "markdown",
   "metadata": {},
   "source": [
    "The coefficients of the characteristic polynomial can be condensed into a single integer where each bit represents the value of its respective coefficient. All computations on polynomials will be done in this form.\n",
    "\n",
    "## Jump Polynomial\n",
    "\n",
    "From the Cayley–Hamilton theorem, it is known that:\n",
    "\n",
    "p(**A**) = **A**ᵏ + α₁**A**ᵏ⁻¹ + ... + αₖ₋₁**A** + αₖ**I** = 0\n",
    "\n",
    "If we define a polynomial g(z) as:\n",
    "\n",
    "g(z) = zᵛ % p(z) = a₁zᵏ⁻¹ + ... + aₖ₋₁z + aₖ\n",
    "\n",
    "and therefore:\n",
    "\n",
    "g(z) + q(z)p(z) = zᵛ\n",
    "\n",
    "...\n",
    "\n",
    "g(z) = zᵛ - q(z)p(z)\n",
    "\n",
    "for some polynomial q(z).\n",
    "\n",
    "We can now realize that for z = **A**:\n",
    "\n",
    "g(**A**) = **A**ᵛ - q(**A**)p(**A**)\n",
    "\n",
    "...\n",
    "\n",
    "g(**A**) = **A**ᵛ - q(**A**) * 0\n",
    "\n",
    "...\n",
    "\n",
    "g(**A**) = **A**ᵛ\n",
    "\n",
    "...\n",
    "\n",
    "g(**A**) = **A**ᵛ % p(**A**) = **A**ᵛ = J\n",
    "\n",
    "...\n",
    "\n",
    "**J** = **A**ᵛ = g(**A**)\n",
    "\n",
    "This polynomial g(x) will be referred to as the \"jump polynomial\" as it is the equivalent of multipling by **J** and will jump **v** steps.\n",
    "\n",
    "## Computing Jump Polynomial\n",
    "\n",
    "The goal of computing **x**ₙ₊ᵥ can be done by applying the jump polynomial g(z) = zᵛ % p(z) = a₁zᵏ⁻¹ + ... + aₖ₋₁z + aₖ.\n",
    "\n",
    "In order to compute this jump polynomial we need to be able to compute zᵛ % p(z), this can be done via polynomial arithmetic under GF(2).\n",
    "\n",
    "When representing GF(2) polynomials as integers who's bits represen their coefficients, addition is equivalent to a binary XOR, subtration is identical to addition, multiplication is a combination of binary AND operations and addition (XOR), division (and therefore modulo) can be represented by subtraction (XOR) and bitshifts, and exponentiation is repeated multiplication (optimized via exponentiation by squares)."
   ]
  },
  {
   "cell_type": "code",
   "execution_count": 22,
   "metadata": {},
   "outputs": [
    {
     "name": "stdout",
     "output_type": "stream",
     "text": [
      "0x170865df4b3201fcdf900294d8f554a5\n"
     ]
    }
   ],
   "source": [
    "def mssb_position(polynomial):\n",
    "    result = -1\n",
    "    while polynomial != 0:\n",
    "        polynomial >>= 1\n",
    "        result += 1\n",
    "    return result\n",
    "\n",
    "def mod_gf2(polynomial, modulus):\n",
    "    # if the mssb of modulus is higher than polynomial: return polynomial\n",
    "    last_bit_pos = mssb_position(modulus)\n",
    "    if polynomial >> last_bit_pos == 0:\n",
    "        return polynomial\n",
    "    poly_mssb = mssb_position(polynomial >> last_bit_pos) + last_bit_pos\n",
    "    shift_num = poly_mssb - last_bit_pos\n",
    "    # line up mssb\n",
    "    modulus <<= shift_num\n",
    "    # only go until modulus is back at its original value\n",
    "    for shift_pos in range(shift_num + 1):\n",
    "        # divides perfectly before last xor\n",
    "        if polynomial == 0:\n",
    "            return 0\n",
    "        # if modulus \"fits\" at this position: polynomial ^= shifted modulus\n",
    "        if polynomial >> (poly_mssb - shift_pos) == 1:\n",
    "        # if polynomial >> mssb_position(modulus) == 1:\n",
    "            polynomial ^= modulus\n",
    "        # check next position\n",
    "        modulus >>= 1\n",
    "    # remainder is left in polynomial\n",
    "    return polynomial\n",
    "\n",
    "def multmod_gf2(multiplicand, multiplier, modulus):\n",
    "    result = 0\n",
    "    # if either are 0, there is nothing left to do\n",
    "    while multiplier != 0:\n",
    "        # multiply 1 bit at a time\n",
    "        result ^= multiplicand * (multiplier & 1)\n",
    "        multiplicand <<= 1\n",
    "        multiplier >>= 1\n",
    "    return mod_gf2(result, modulus)\n",
    "\n",
    "def base_z_modpow_gf2(power, modulus):\n",
    "    base = 0b10 # z ** 1\n",
    "    result = 1\n",
    "    # exponentiation by squares\n",
    "    while power > 0:\n",
    "        if power & 1:\n",
    "            result = multmod_gf2(result, base, modulus)\n",
    "\n",
    "        power >>= 1\n",
    "        base = multmod_gf2(base, base, modulus)\n",
    "    return result\n",
    "\n",
    "v = 2 ** 64 # arbitrary jump number\n",
    "\n",
    "jump_poly = base_z_modpow_gf2(v, char_poly)\n",
    "\n",
    "print(hex(jump_poly))"
   ]
  },
  {
   "cell_type": "markdown",
   "metadata": {},
   "source": [
    "## Application of Jump Polynomial\n",
    "\n",
    "To apply a computed jump polynomial, one must remember that:\n",
    "\n",
    "**J** = **A**ᵛ = g(**A**) = a₁**A**ᵏ⁻¹ + ... + aₖ₋₁**A** + aₖ**I**\n",
    "\n",
    "which means that the application of this polynomial via **Jx** is:\n",
    "\n",
    "**Jx** = (a₁**A**ᵏ⁻¹ + ... + aₖ₋₁**A** + aₖ**I**)x\n",
    "\n",
    "rewritten as:\n",
    "\n",
    "**Jx** = **A**( ... **A**(**A**(**A**a₁**x** + a₂**x**) + a₃**x**) + ... + aₖ₋₁**x**) + aₖ**x**\n",
    "\n",
    "via Horner's method for polynomial evaluation. **Jx** can therefore be computed via the addition of up to *k* state vectors."
   ]
  },
  {
   "cell_type": "code",
   "execution_count": 23,
   "metadata": {},
   "outputs": [
    {
     "name": "stdout",
     "output_type": "stream",
     "text": [
      "0xbce52e95d6fa01c6f85c54b9b1e3e82c\n"
     ]
    }
   ],
   "source": [
    "result_state = np.zeros(k, np.uint8)\n",
    "test_state = np.copy(state)\n",
    "\n",
    "for j in range(k):\n",
    "    if (jump_poly >> j) & 0b1 == 1: # only add if aⱼ₊₁ == 1, otherwise Aaⱼ₊₁x = 0 and addition is pointless\n",
    "        result_state = (result_state + test_state) % 2 # + Aaⱼ₊₁x addition under GF(2), this is equivalent to the XOR operation\n",
    "    test_state = advance_rng(test_state)\n",
    "    # state is now equal to Aʲ⁺¹x\n",
    "print(hex(reduce(lambda p,q: (int(p) << 1) | int(q), tuple(reversed(result_state)))))"
   ]
  },
  {
   "cell_type": "markdown",
   "metadata": {},
   "source": [
    "or using the RNG directly"
   ]
  },
  {
   "cell_type": "code",
   "execution_count": 24,
   "metadata": {},
   "outputs": [
    {
     "name": "stdout",
     "output_type": "stream",
     "text": [
      "0xbce52e95d6fa01c6f85c54b9b1e3e82c\n"
     ]
    }
   ],
   "source": [
    "class Xoroshiro128Plus:\n",
    "    \"\"\"Xoroshiro128+ as per https://xoshiro.di.unimi.it/xoroshiro128plus.c\"\"\"\n",
    "    ulongmask = 2 ** 64 - 1\n",
    "\n",
    "    def __init__(self, seed0, seed1 = 0x82A2B175229D6A5B):\n",
    "        self.seed = [seed0, seed1]\n",
    "\n",
    "    @staticmethod\n",
    "    def rotl(num, k):\n",
    "        return ((num << k) | (num >> (64 - k))) & Xoroshiro128Plus.ulongmask\n",
    "\n",
    "    def next(self):\n",
    "        seed0, seed1 = self.seed\n",
    "        seed1 ^= seed0\n",
    "        self.seed = [\n",
    "            Xoroshiro128Plus.rotl(seed0, 24) ^ seed1 ^ ((seed1 << 16) & Xoroshiro128Plus.ulongmask),\n",
    "            Xoroshiro128Plus.rotl(seed1, 37)\n",
    "        ]\n",
    "\n",
    "int_state = reduce(lambda p,q: (int(p) << 1) | int(q), tuple(reversed(state)))\n",
    "rng = Xoroshiro128Plus(int_state & 0xFFFFFFFFFFFFFFFF, int_state >> 64)\n",
    "result_rng = Xoroshiro128Plus(0, 0)\n",
    "jump_poly_copy = jump_poly\n",
    "\n",
    "while jump_poly_copy > 0:\n",
    "    if jump_poly_copy & 1:\n",
    "        result_rng.seed[0] ^= rng.seed[0]\n",
    "        result_rng.seed[1] ^= rng.seed[1]\n",
    "    rng.next()\n",
    "    jump_poly_copy >>= 1\n",
    "rng.seed = result_rng.seed.copy()\n",
    "\n",
    "print(hex(rng.seed[0] | rng.seed[1] << 64))"
   ]
  },
  {
   "cell_type": "markdown",
   "metadata": {},
   "source": [
    "## Efficiently jumping an arbitrary amount of advances\n",
    "\n",
    "Jumping *v* advances when *v* is static can easily be done by computing the jump polynomial ahead of time, but when *v* is not static this is obviously not an option.\n",
    "\n",
    "### Computing jump polynomial during execution\n",
    "\n",
    "One method of jumping an arbitrary amount of advances would be to compute the jump polynomial during execution of the program and then proceeding to apply it. This method works, though it's performance greatly suffers from the expensive GF(2) modulo function that must be repeatedly run.\n",
    "\n",
    "### Precomputed step jump polynomials\n",
    "\n",
    "A more efficient method of jumping an arbitrary amount of advances can be done by applying multiple precomputed jump polynomials one after another.\n",
    "\n",
    "Consider a situation where you need to jump 123 advances, if you were to advance 3 steps, then 20 steps, then 100 steps, this would be the equivalent of advancing the rng 123 steps.\n",
    "\n",
    "This scenario represents the equality:\n",
    "\n",
    "**A**¹²³**x** = **A**⁽¹⁰⁰⁺²⁰⁺³⁾**x** = **A**¹⁰⁰**A**²⁰**A**³**x**\n",
    "\n",
    "If the goal was to be able to arbitrarily jump *v* advances where *v* is in the range 0-999 inclusive, this could be represented by jumping i steps, then j steps, and finally k steps, where:\n",
    "\n",
    "i = v % 10\n",
    "\n",
    "j = floor((v % 100) / 10) * 10\n",
    "\n",
    "k = floor(v / 100) * 100\n",
    "\n",
    "By precomputing the jump polynomial for all 10 possible values of i, all 10 possible values of j, and all 10 possible values of k, storing them in a lookup table, jumping *v* steps is easily done by applying three jump polynomials from the three tables of only 30 total values.\n",
    "\n",
    "This idea can be more generally applied to any base-n number system with any maximum advance nʸ - 1.\n",
    "\n",
    "The maximum amount of state advances needed to compute a jump with this method is given by:\n",
    "\n",
    "m = k * y\n",
    "\n",
    "and the amount of bits of memory needed to store the jump polynomials is given by:\n",
    "\n",
    "s = k * y * (n - 1)\n",
    "\n",
    "so it is important to find a balance between memory usage and performance for your use case.\n",
    "\n",
    "Doing this with any base-n system where n is a power of 2 is especially simple, as the floored division is equivalent to logical right shifts and modulo is equivalent to masking bits.\n",
    "\n",
    "Two implementations of this method (base-2 and base-256 both with maximum advance 2ᵏ - 1) are shown below."
   ]
  },
  {
   "cell_type": "code",
   "execution_count": 25,
   "metadata": {},
   "outputs": [],
   "source": [
    "jump_polynomials_base_2 = tuple(base_z_modpow_gf2(2 ** i, char_poly) for i in range(k))\n",
    "jump_polynomials_base_256 = tuple(tuple(base_z_modpow_gf2(p * 2 ** (i * 8), char_poly) for p in range(1, 256)) for i in range(k >> 3))"
   ]
  },
  {
   "cell_type": "code",
   "execution_count": 26,
   "metadata": {},
   "outputs": [
    {
     "name": "stdout",
     "output_type": "stream",
     "text": [
      "0x89fedc0b2b9a776db8c130a8ff2c1977\n"
     ]
    }
   ],
   "source": [
    "int_state = reduce(lambda p,q: (int(p) << 1) | int(q), tuple(reversed(state)))\n",
    "rng = Xoroshiro128Plus(int_state & 0xFFFFFFFFFFFFFFFF, int_state >> 64)\n",
    "\n",
    "jump_count = 1234567\n",
    "index = 0\n",
    "\n",
    "while jump_count > 0:\n",
    "    if jump_count & 1: # equivalent of modulo 2, if there is 0 in this position we don't need to jump\n",
    "        # jump 2**index steps\n",
    "        step_jump_poly = jump_polynomials_base_2[index]\n",
    "        result_rng = Xoroshiro128Plus(0, 0)\n",
    "        while step_jump_poly > 0:\n",
    "            if step_jump_poly & 1:\n",
    "                result_rng.seed[0] ^= rng.seed[0]\n",
    "                result_rng.seed[1] ^= rng.seed[1]\n",
    "            rng.next()\n",
    "            step_jump_poly >>= 1\n",
    "        rng.seed = result_rng.seed.copy()\n",
    "    jump_count >>= 1 # equivalent of floored division by 2\n",
    "    index += 1\n",
    "\n",
    "print(hex(rng.seed[0] | rng.seed[1] << 64))"
   ]
  },
  {
   "cell_type": "code",
   "execution_count": 27,
   "metadata": {},
   "outputs": [
    {
     "name": "stdout",
     "output_type": "stream",
     "text": [
      "0x89fedc0b2b9a776db8c130a8ff2c1977\n"
     ]
    }
   ],
   "source": [
    "int_state = reduce(lambda p,q: (int(p) << 1) | int(q), tuple(reversed(state)))\n",
    "rng = Xoroshiro128Plus(int_state & 0xFFFFFFFFFFFFFFFF, int_state >> 64)\n",
    "\n",
    "jump_count = 1234567\n",
    "index = 0\n",
    "\n",
    "while jump_count > 0:\n",
    "    position_value = jump_count & 0xFF # equivalent of modulo 256\n",
    "    if position_value: # equivalent of modulo 2, if there is 0 in this position we don't need to jump\n",
    "        # jump position_value * 2**(index * 8) steps\n",
    "        step_jump_poly = jump_polynomials_base_256[index][position_value - 1]\n",
    "        result_rng = Xoroshiro128Plus(0, 0)\n",
    "        while step_jump_poly > 0:\n",
    "            if step_jump_poly & 1:\n",
    "                result_rng.seed[0] ^= rng.seed[0]\n",
    "                result_rng.seed[1] ^= rng.seed[1]\n",
    "            rng.next()\n",
    "            step_jump_poly >>= 1\n",
    "        rng.seed = result_rng.seed.copy()\n",
    "    jump_count >>= 8 # equivalent of floored division by 256\n",
    "    index += 1\n",
    "\n",
    "print(hex(rng.seed[0] | rng.seed[1] << 64))"
   ]
  },
  {
   "cell_type": "markdown",
   "metadata": {},
   "source": [
    "# References\n",
    "- Peter Occil - [\"Notes on Jumping PRNGs Ahead\"](http://peteroupc.github.io/jump.html)\n",
    "\n",
    "- Haramoto, Matsumoto, Nishimura, Panneton, L’Ecuyer - \"Efficient Jump Ahead for F2-Linear Random Number Generators\""
   ]
  }
 ],
 "metadata": {
  "kernelspec": {
   "display_name": "Python 3.9.6 64-bit ('3.9.6')",
   "language": "python",
   "name": "python3"
  },
  "language_info": {
   "codemirror_mode": {
    "name": "ipython",
    "version": 3
   },
   "file_extension": ".py",
   "mimetype": "text/x-python",
   "name": "python",
   "nbconvert_exporter": "python",
   "pygments_lexer": "ipython3",
   "version": "3.9.6"
  },
  "orig_nbformat": 4,
  "vscode": {
   "interpreter": {
    "hash": "b8418fe9138256c927463f7bacb22555ffb5951f42fb8170ef1508f1e99e08e3"
   }
  }
 },
 "nbformat": 4,
 "nbformat_minor": 2
}
